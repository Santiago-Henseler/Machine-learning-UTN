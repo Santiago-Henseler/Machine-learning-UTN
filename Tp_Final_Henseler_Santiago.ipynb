{
 "cells": [
  {
   "cell_type": "markdown",
   "id": "06a36680",
   "metadata": {},
   "source": [
    "TP Final\n",
    "=="
   ]
  },
  {
   "cell_type": "markdown",
   "id": "651eb0c0",
   "metadata": {},
   "source": [
    "Trabajo final del curso Machine learning hecho por Santiago Henseler"
   ]
  },
  {
   "cell_type": "markdown",
   "id": "72dd0e3d",
   "metadata": {},
   "source": [
    "1)\n",
    "=="
   ]
  },
  {
   "cell_type": "markdown",
   "id": "9a9bfe2f",
   "metadata": {},
   "source": [
    "- *Importamos librerias basicas*"
   ]
  },
  {
   "cell_type": "code",
   "execution_count": 1,
   "id": "c318576d",
   "metadata": {},
   "outputs": [],
   "source": [
    "import numpy as np\n",
    "import matplotlib.pyplot as plt\n",
    "from sklearn import metrics\n",
    "from sklearn.metrics import confusion_matrix as cm\n",
    "from sklearn.metrics import ConfusionMatrixDisplay as cmd"
   ]
  },
  {
   "cell_type": "markdown",
   "id": "e025fc11",
   "metadata": {},
   "source": [
    "- *Importamos los datos de vinos incluidos en el dataset de sklearn*\n"
   ]
  },
  {
   "cell_type": "code",
   "execution_count": 2,
   "id": "a06e0693",
   "metadata": {},
   "outputs": [],
   "source": [
    "from sklearn.datasets import load_wine as lw\n",
    "vine = lw()\n",
    "vine_data_y = vine.target"
   ]
  },
  {
   "cell_type": "markdown",
   "id": "7f3ea822",
   "metadata": {},
   "source": [
    "- *Construimos el primer dataset con los datos originales*"
   ]
  },
  {
   "cell_type": "code",
   "execution_count": 3,
   "id": "304ae560",
   "metadata": {},
   "outputs": [],
   "source": [
    "vine_data_x_or = vine.data"
   ]
  },
  {
   "cell_type": "markdown",
   "id": "8c005412",
   "metadata": {},
   "source": [
    "- *Construimos el segundo dataset utilizando de la libreria sklearn el modulo de preprocessing*"
   ]
  },
  {
   "cell_type": "code",
   "execution_count": 4,
   "id": "45766d56",
   "metadata": {},
   "outputs": [],
   "source": [
    "from sklearn import preprocessing as pp\n",
    "\n",
    "x_to_pp = np.array(vine.data)"
   ]
  },
  {
   "cell_type": "markdown",
   "id": "ac2aae02",
   "metadata": {},
   "source": [
    "- *Normalizamos y escalamos el dataset*"
   ]
  },
  {
   "cell_type": "code",
   "execution_count": 5,
   "id": "07c54201",
   "metadata": {},
   "outputs": [],
   "source": [
    "# Escalamos el dataset\n",
    "vine_data_x_scaler = pp.StandardScaler().fit(x_to_pp).transform(x_to_pp)\n",
    "\n",
    "# Normalizamos el dataset\n",
    "vine_data_x_pp = pp.normalize(vine_data_x_scaler, norm='l1', axis=0)"
   ]
  },
  {
   "cell_type": "markdown",
   "id": "f0833098",
   "metadata": {},
   "source": [
    "- *Dividimos los datasets en datos de entrenamiento y de validacion utilizando de la libreria sklearn el modulo de model_selection*"
   ]
  },
  {
   "cell_type": "code",
   "execution_count": 6,
   "id": "3c12d0cb",
   "metadata": {},
   "outputs": [],
   "source": [
    "from sklearn.model_selection import train_test_split as tt\n",
    "\n",
    "# dividimos el primer dataset\n",
    "vineX_or_train, vineX_or_test, vineY_or_train, vineY_or_test = tt(vine_data_x_or, vine_data_y, test_size=0.2, random_state=7, shuffle=True)\n",
    "\n",
    "# dividimos el segundo dataset\n",
    "vineX_pp_train, vineX_pp_test, vineY_pp_train, vineY_pp_test = tt(vine_data_x_pp, vine_data_y, test_size=0.2, random_state=7, shuffle=True)"
   ]
  },
  {
   "cell_type": "markdown",
   "id": "0d6d36ca",
   "metadata": {},
   "source": [
    "2)\n",
    "=="
   ]
  },
  {
   "cell_type": "markdown",
   "id": "84eb50cf",
   "metadata": {},
   "source": [
    "- *Importamos de la libreria sklearn el algoritmo KNN (vecinos cercanos)*"
   ]
  },
  {
   "cell_type": "code",
   "execution_count": 7,
   "id": "6f696da4",
   "metadata": {},
   "outputs": [],
   "source": [
    "from sklearn import neighbors as knn\n",
    "\n",
    "# Establecemos un valor para K\n",
    "k_vecinos = 15\n",
    "\n",
    "# Creamos el modelo y ponderamos la clasificacion segun la distancia\n",
    "model_knn = knn.KNeighborsClassifier(k_vecinos, weights='distance')"
   ]
  },
  {
   "cell_type": "markdown",
   "id": "ef311c1b",
   "metadata": {},
   "source": [
    "- *Aplicamos el algoritmo al primer dataset*"
   ]
  },
  {
   "cell_type": "code",
   "execution_count": 31,
   "id": "d7c55f87",
   "metadata": {},
   "outputs": [
    {
     "name": "stdout",
     "output_type": "stream",
     "text": [
      "Puntuacion del algoritmo en el primer dataset: 0.4772825329394975\n"
     ]
    }
   ],
   "source": [
    "# Entrenamos el modelo\n",
    "model_knn.fit(vineX_or_train, vineY_or_train)\n",
    "\n",
    "prediccion_or_knn = model_knn.predict(vineX_or_test)\n",
    "\n",
    "score_or_knn = metrics.adjusted_rand_score(vineY_or_test, prediccion_or_knn)\n",
    "print(f\"Puntuacion del algoritmo en el primer dataset: {score_or_knn}\")"
   ]
  },
  {
   "cell_type": "markdown",
   "id": "374d3ff9",
   "metadata": {},
   "source": [
    "- *Aplicamos el algoritmo al segundo dataset*"
   ]
  },
  {
   "cell_type": "code",
   "execution_count": 28,
   "id": "947a97d6",
   "metadata": {},
   "outputs": [
    {
     "name": "stdout",
     "output_type": "stream",
     "text": [
      "Puntuacion del algoritmo en el segundo dataset: 1.0\n"
     ]
    }
   ],
   "source": [
    "# Entrenamos el modelo\n",
    "model_knn.fit(vineX_pp_train, vineY_pp_train)\n",
    "\n",
    "prediccion_pp_knn = model_knn.predict(vineX_pp_test)\n",
    "\n",
    "score_pp_knn = metrics.adjusted_rand_score(vineY_pp_test, prediccion_pp_knn)\n",
    "print(f\"Puntuacion del algoritmo en el segundo dataset: {score_pp_knn}\")"
   ]
  },
  {
   "cell_type": "markdown",
   "id": "2f861f4b",
   "metadata": {},
   "source": [
    "3)\n",
    "=="
   ]
  },
  {
   "cell_type": "markdown",
   "id": "50275074",
   "metadata": {},
   "source": [
    "- *Importamos de la libreria sklearn el algoritmo KNN (vecinos cercanos)*"
   ]
  },
  {
   "cell_type": "code",
   "execution_count": 10,
   "id": "ddb86388",
   "metadata": {},
   "outputs": [],
   "source": [
    "from sklearn.tree import DecisionTreeClassifier as tree\n",
    "\n",
    "# Establecemos el valor de max_depth\n",
    "max_depth = 10\n",
    "\n",
    "# Creamos el modelo\n",
    "model_tree = tree(max_depth=max_depth)"
   ]
  },
  {
   "cell_type": "markdown",
   "id": "c84bff50",
   "metadata": {},
   "source": [
    "- *Aplicamos el algoritmo al primer dataset*\n"
   ]
  },
  {
   "cell_type": "code",
   "execution_count": 21,
   "id": "2b51c957",
   "metadata": {},
   "outputs": [
    {
     "name": "stdout",
     "output_type": "stream",
     "text": [
      "Puntuacion del algoritmo en el primer dataset: 0.9166666666666666\n"
     ]
    }
   ],
   "source": [
    "# Entrenamos el modelo\n",
    "model_tree.fit(vineX_or_train, vineY_or_train)\n",
    "\n",
    "score_or_tree = model_tree.score(vineX_or_test, vineY_or_test)\n",
    "\n",
    "print(f\"Puntuacion del algoritmo en el primer dataset: {score_or_tree}\")"
   ]
  },
  {
   "cell_type": "markdown",
   "id": "03a0dbb6",
   "metadata": {},
   "source": [
    "- *Graficamos el resultado del primer dataset*"
   ]
  },
  {
   "cell_type": "code",
   "execution_count": 22,
   "id": "0f95bb6c",
   "metadata": {},
   "outputs": [
    {
     "data": {
      "image/png": "[encoded data removed]",
      "text/plain": [
       "<Figure size 432x288 with 2 Axes>"
      ]
     },
     "metadata": {
      "needs_background": "light"
     },
     "output_type": "display_data"
    }
   ],
   "source": [
    "prediccion_or_tree = model_tree.predict(vineX_or_test)\n",
    "\n",
    "grafM = cm(vineY_or_test, prediccion_or_tree)\n",
    "grafM_view = cmd(grafM).plot()"
   ]
  },
  {
   "cell_type": "markdown",
   "id": "4a831915",
   "metadata": {},
   "source": [
    "- *Aplicamos el algoritmo al segundo dataset*"
   ]
  },
  {
   "cell_type": "code",
   "execution_count": 25,
   "id": "d46e336b",
   "metadata": {},
   "outputs": [
    {
     "name": "stdout",
     "output_type": "stream",
     "text": [
      "Puntuacion del algoritmo en el segundo dataset: 0.9444444444444444\n"
     ]
    }
   ],
   "source": [
    "# Entrenamos el modelo\n",
    "model_tree.fit(vineX_pp_train, vineY_pp_train)\n",
    "\n",
    "score_pp_tree = model_tree.score(vineX_pp_test, vineY_pp_test)\n",
    "\n",
    "print(f\"Puntuacion del algoritmo en el segundo dataset: {score_pp_tree}\")"
   ]
  },
  {
   "cell_type": "markdown",
   "id": "0c0c76da",
   "metadata": {},
   "source": [
    "- *Graficamos el resultado del segundo dataset*"
   ]
  },
  {
   "cell_type": "code",
   "execution_count": 26,
   "id": "2cfc383a",
   "metadata": {},
   "outputs": [
    {
     "data": {
      "image/png": "[encoded data removed]",
      "text/plain": [
       "<Figure size 432x288 with 2 Axes>"
      ]
     },
     "metadata": {
      "needs_background": "light"
     },
     "output_type": "display_data"
    }
   ],
   "source": [
    "prediccion_pp_tree = model_tree.predict(vineX_pp_test)\n",
    "\n",
    "grafM = cm(vineY_pp_test, prediccion_pp_tree)\n",
    "grafM_view = cmd(grafM).plot()"
   ]
  },
  {
   "cell_type": "markdown",
   "id": "c3f59c72",
   "metadata": {},
   "source": [
    "4)\n",
    "=="
   ]
  },
  {
   "cell_type": "markdown",
   "id": "53c077ec",
   "metadata": {},
   "source": [
    "- *Importamos de la libreria sklearn el algoritmo PCA*"
   ]
  },
  {
   "cell_type": "code",
   "execution_count": 15,
   "id": "09f70ba3",
   "metadata": {},
   "outputs": [
    {
     "name": "stdout",
     "output_type": "stream",
     "text": [
      "Dataset antes de la redimencionalidad: (178, 13)\n",
      "Dataset despues de la redimencionalidad: (178, 2)\n"
     ]
    }
   ],
   "source": [
    "from sklearn.decomposition import PCA\n",
    "\n",
    "# Creamos el modelo y redimincionalizamos los datos\n",
    "pca = PCA(n_components=2)\n",
    "pca.fit(vine_data_x_pp)\n",
    "data_mod = pca.transform(vine_data_x_pp)\n",
    "print(f\"Dataset antes de la redimencionalidad: {vine_data_x_pp.shape}\")\n",
    "print(f\"Dataset despues de la redimencionalidad: {data_mod.shape}\")"
   ]
  },
  {
   "cell_type": "markdown",
   "id": "c48be669",
   "metadata": {},
   "source": [
    "- *Graficamos el resultado*"
   ]
  },
  {
   "cell_type": "code",
   "execution_count": 16,
   "id": "b1cbee0b",
   "metadata": {},
   "outputs": [
    {
     "data": {
      "text/plain": [
       "<matplotlib.collections.PathCollection at 0x1ce086660d0>"
      ]
     },
     "execution_count": 16,
     "metadata": {},
     "output_type": "execute_result"
    },
    {
     "data": {
      "image/png": "[encoded data removed]",
      "text/plain": [
       "<Figure size 432x288 with 1 Axes>"
      ]
     },
     "metadata": {
      "needs_background": "light"
     },
     "output_type": "display_data"
    }
   ],
   "source": [
    "plt.scatter(data_mod[:,0], data_mod[:,1],c=vine_data_y)"
   ]
  },
  {
   "cell_type": "markdown",
   "id": "78fada87",
   "metadata": {},
   "source": [
    "5)\n",
    "=="
   ]
  },
  {
   "cell_type": "markdown",
   "id": "e4d8299f",
   "metadata": {},
   "source": [
    "- *Importamos de la libreria sklearn el algoritmo KMeans*"
   ]
  },
  {
   "cell_type": "code",
   "execution_count": 17,
   "id": "aad42968",
   "metadata": {},
   "outputs": [
    {
     "name": "stdout",
     "output_type": "stream",
     "text": [
      "Puntuacion del algoritmo en el dataset: 0.8618222264968849\n"
     ]
    }
   ],
   "source": [
    "from sklearn.cluster import KMeans as km\n",
    "\n",
    "# Establecemos el numero de clusters y de iteraciones\n",
    "n_clusters = 3\n",
    "n_iter = 2000\n",
    "\n",
    "# Creamos el modelo y lo entrenamos\n",
    "model_km = km(n_clusters=n_clusters, max_iter=n_iter)\n",
    "model_km.fit(data_mod)\n",
    "\n",
    "#predicciones del grupo al que cree que pertenece\n",
    "prediccion_km = model_km.predict(data_mod)\n",
    "score_km = metrics.adjusted_rand_score(vine_data_y, prediccion_km)\n",
    "\n",
    "print(f\"Puntuacion del algoritmo en el dataset: {score_km}\")"
   ]
  },
  {
   "cell_type": "markdown",
   "id": "42591d36",
   "metadata": {},
   "source": [
    "- *Graficamos el resultado mostrando los centroides de desicion*"
   ]
  },
  {
   "cell_type": "code",
   "execution_count": 18,
   "id": "acfe7979",
   "metadata": {},
   "outputs": [
    {
     "data": {
      "text/plain": [
       "<matplotlib.collections.PathCollection at 0x1ce08fa64c0>"
      ]
     },
     "execution_count": 18,
     "metadata": {},
     "output_type": "execute_result"
    },
    {
     "data": {
      "image/png": "[encoded data removed]",
      "text/plain": [
       "<Figure size 432x288 with 1 Axes>"
      ]
     },
     "metadata": {
      "needs_background": "light"
     },
     "output_type": "display_data"
    }
   ],
   "source": [
    "centroid = model_km.cluster_centers_\n",
    "\n",
    "plt.scatter(data_mod[:,0], data_mod[:,1], c=prediccion_km)\n",
    "plt.scatter(centroid[:,0], centroid[:,1], c='red')"
   ]
  },
  {
   "cell_type": "markdown",
   "id": "ea055e66",
   "metadata": {},
   "source": [
    "- *Importamos de la libreria sklearn el algoritmo KMeans por mini-batches*"
   ]
  },
  {
   "cell_type": "code",
   "execution_count": 19,
   "id": "d25b4249",
   "metadata": {},
   "outputs": [
    {
     "name": "stdout",
     "output_type": "stream",
     "text": [
      "Puntuacion del algoritmo en el dataset: 0.8951548669070751\n"
     ]
    },
    {
     "name": "stderr",
     "output_type": "stream",
     "text": [
      "C:\\Users\\Santy\\anaconda3\\lib\\site-packages\\sklearn\\cluster\\_kmeans.py:1043: UserWarning: MiniBatchKMeans is known to have a memory leak on Windows with MKL, when there are less chunks than available threads. You can prevent it by setting batch_size >= 3072 or by setting the environment variable OMP_NUM_THREADS=1\n",
      "  warnings.warn(\n"
     ]
    }
   ],
   "source": [
    "from sklearn.cluster import MiniBatchKMeans as kmb\n",
    "\n",
    "# Establecemos el numero de clusters y de iteraciones\n",
    "n_clusters = 3\n",
    "n_iter = 2000\n",
    "\n",
    "# Creamos el modelo y lo entrenamos\n",
    "model_km_bt = kmb(n_clusters=n_clusters, max_iter=n_iter) \n",
    "model_km_bt.fit(data_mod)\n",
    "\n",
    "#predicciones del grupo al que cree que pertenece\n",
    "prediccion_km_bt = model_km_bt.predict(data_mod)\n",
    "score_km_bt = metrics.adjusted_rand_score(vine_data_y, prediccion_km_bt)\n",
    "print(f\"Puntuacion del algoritmo en el dataset: {score_km_bt}\")"
   ]
  },
  {
   "cell_type": "markdown",
   "id": "4f9c3994",
   "metadata": {},
   "source": [
    "- *Graficamos el resultado mostrando los centroides de desicion*"
   ]
  },
  {
   "cell_type": "code",
   "execution_count": 20,
   "id": "c71e4643",
   "metadata": {},
   "outputs": [
    {
     "data": {
      "text/plain": [
       "<matplotlib.collections.PathCollection at 0x1ce0903adf0>"
      ]
     },
     "execution_count": 20,
     "metadata": {},
     "output_type": "execute_result"
    },
    {
     "data": {
      "image/png": "[encoded data removed]",
      "text/plain": [
       "<Figure size 432x288 with 1 Axes>"
      ]
     },
     "metadata": {
      "needs_background": "light"
     },
     "output_type": "display_data"
    }
   ],
   "source": [
    "centroid_km_bt = model_km_bt.cluster_centers_\n",
    "\n",
    "plt.scatter(data_mod[:,0], data_mod[:,1], c=prediccion_km_bt)\n",
    "plt.scatter(centroid_km_bt[:,0], centroid_km_bt[:,1], c='red')"
   ]
  }
 ],
 "metadata": {
  "kernelspec": {
   "display_name": "Python 3 (ipykernel)",
   "language": "python",
   "name": "python3"
  },
  "language_info": {
   "codemirror_mode": {
    "name": "ipython",
    "version": 3
   },
   "file_extension": ".py",
   "mimetype": "text/x-python",
   "name": "python",
   "nbconvert_exporter": "python",
   "pygments_lexer": "ipython3",
   "version": "3.9.12"
  }
 },
 "nbformat": 4,
 "nbformat_minor": 5
}
